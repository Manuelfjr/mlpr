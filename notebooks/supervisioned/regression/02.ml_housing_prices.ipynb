{
 "cells": [
  {
   "cell_type": "markdown",
   "metadata": {},
   "source": [
    "## Imports"
   ]
  },
  {
   "cell_type": "code",
   "execution_count": null,
   "metadata": {},
   "outputs": [],
   "source": [
    "from nb_utils import set_root\n",
    "\n",
    "PROJECT_ROOT = set_root(4, \"src\")"
   ]
  },
  {
   "cell_type": "code",
   "execution_count": null,
   "metadata": {},
   "outputs": [],
   "source": [
    "import matplotlib.pyplot as plt\n",
    "import numpy as np\n",
    "import pandas as pd\n",
    "from lightgbm import LGBMRegressor\n",
    "from sklearn.base import BaseEstimator\n",
    "from sklearn.datasets import fetch_california_housing\n",
    "# from sklearn.decomposition import PCA\n",
    "# from sklearn.ensemble import GradientBoostingRegressor, RandomForestRegressor\n",
    "from sklearn.linear_model import LinearRegression  # LogisticRegression\n",
    "from sklearn.metrics import mean_absolute_error, mean_squared_error, r2_score\n",
    "from sklearn.model_selection import train_test_split\n",
    "# from sklearn.neighbors import KNeighborsRegressor\n",
    "# from sklearn.svm import SVR\n",
    "from sklearn.tree import DecisionTreeRegressor\n",
    "from xgboost import XGBRegressor\n",
    "\n",
    "from mlpr.ml.supervisioned.regression import metrics, plots\n",
    "from mlpr.ml.supervisioned.surrogates.surrogates import Surrogate\n",
    "from mlpr.ml.supervisioned.tunning.grid_search import GridSearch"
   ]
  },
  {
   "cell_type": "markdown",
   "metadata": {},
   "source": [
    "## Methods"
   ]
  },
  {
   "cell_type": "code",
   "execution_count": null,
   "metadata": {},
   "outputs": [],
   "source": [
    "def custom_rmse(y_test, y_pred, **kwargs):\n",
    "    return -np.sqrt(mean_squared_error(y_test, y_pred, **kwargs))\n",
    "\n",
    "\n",
    "def mean_absolute_percentage_error(y_true, y_pred):\n",
    "    return -np.mean(np.abs((y_true - y_pred) / y_true)) * 100"
   ]
  },
  {
   "cell_type": "markdown",
   "metadata": {},
   "source": [
    "## Parameters"
   ]
  },
  {
   "cell_type": "code",
   "execution_count": null,
   "metadata": {},
   "outputs": [],
   "source": [
    "cv: int = 5\n",
    "random_state: int = 42"
   ]
  },
  {
   "cell_type": "code",
   "execution_count": null,
   "metadata": {},
   "outputs": [],
   "source": [
    "params_split: dict[str, any] = {'test_size': 0.2, 'random_state': 42}\n",
    "params_norm: dict[str, bool] = {'with_mean': True, 'with_std': True}\n",
    "model_metrics: dict[str, dict[str, any]] = {\n",
    "    'regression': {\n",
    "        \"custom_rmse\": custom_rmse,\n",
    "        \"custom_mape\": mean_absolute_percentage_error,\n",
    "        'mse': mean_squared_error,\n",
    "        'mae': mean_absolute_error,\n",
    "        'r2': r2_score,\n",
    "    }\n",
    "}"
   ]
  },
  {
   "cell_type": "code",
   "execution_count": null,
   "metadata": {},
   "outputs": [],
   "source": [
    "black_box: dict[str, dict[BaseEstimator, dict]] = {\n",
    "    \"regression\": {\n",
    "        # RandomForestRegressor: {\n",
    "        #     'n_estimators': [200, 500],\n",
    "        #     'max_depth': [None, 20],\n",
    "        #     'min_samples_split': [2, 10],\n",
    "        #     'min_samples_leaf': [1, 4],\n",
    "        #     'random_state': [random_state]\n",
    "        # },\n",
    "        # GradientBoostingRegressor: {\n",
    "        #     'n_estimators': [200, 500],\n",
    "        #     'learning_rate': [0.1, 0.01],\n",
    "        #     'subsample': [0.5, 1.0],\n",
    "        #     'random_state': [random_state]\n",
    "        # },\n",
    "        # SVR: {\n",
    "        #     'C': [1.0, 100.0],\n",
    "        #     'kernel': ['linear', 'rbf'],\n",
    "        #     'degree': [2, 4],\n",
    "        #     'gamma': ['scale']\n",
    "        # },\n",
    "        LGBMRegressor: {\n",
    "            'num_leaves': [31, 127],\n",
    "            'learning_rate': [0.1, 0.01],\n",
    "            'n_estimators': [100, 200],\n",
    "            'random_state': [random_state],\n",
    "            'verbose': [-1]\n",
    "        },\n",
    "        XGBRegressor: {\n",
    "            'max_depth': [6, 10],\n",
    "            'learning_rate': [0.3, 0.1],\n",
    "            'n_estimators': [100, 200],\n",
    "            'random_state': [random_state],\n",
    "            'verbosity': [0]\n",
    "        }\n",
    "    }\n",
    "}\n",
    "\n",
    "white_box: dict[str, dict[BaseEstimator, dict]] = {\n",
    "    \"regression\": {\n",
    "        DecisionTreeRegressor: {\n",
    "            'random_state': [42],\n",
    "            'max_depth': [1, 5, 10],\n",
    "            'min_samples_split': [2, 5, 10]\n",
    "        },\n",
    "        LinearRegression: {}\n",
    "    }\n",
    "}"
   ]
  },
  {
   "cell_type": "markdown",
   "metadata": {},
   "source": [
    "## Read dataset"
   ]
  },
  {
   "cell_type": "code",
   "execution_count": null,
   "metadata": {},
   "outputs": [],
   "source": [
    "content: dict = fetch_california_housing()\n",
    "data: np.ndarray = content['data']\n",
    "features: list = content[\"feature_names\"]\n",
    "target: np.ndarray = content[\"target\"]\n",
    "target_name: str | list | list[str] = content[\"target_names\"]"
   ]
  },
  {
   "cell_type": "code",
   "execution_count": null,
   "metadata": {},
   "outputs": [],
   "source": [
    "data_sample, _, target_sample, _ = train_test_split(data, target, train_size=10000, random_state=random_state)"
   ]
  },
  {
   "cell_type": "code",
   "execution_count": null,
   "metadata": {},
   "outputs": [],
   "source": [
    "X = data  # _sample\n",
    "y = target  # _sample"
   ]
  },
  {
   "cell_type": "markdown",
   "metadata": {},
   "source": [
    "## Plot dataset"
   ]
  },
  {
   "cell_type": "code",
   "execution_count": null,
   "metadata": {},
   "outputs": [],
   "source": [
    "fig, ax = plt.subplots(1, 2, figsize=(20, 6))\n",
    "\n",
    "ax[0].plot(\n",
    "    y,\n",
    "    color=\"#FF4B3E\",\n",
    ")\n",
    "ax[1].hist(\n",
    "    y,\n",
    "    color=\"#FF4B3E\",\n",
    "    bins=60\n",
    ")\n",
    "ax[0].axhline(y.mean(), color=\"black\", linestyle=\"--\", label=\"mean\")\n",
    "ax[1].axvline(y.mean(), color=\"black\", linestyle=\"--\", label=\"mean\")\n",
    "\n",
    "ax[0].set_title(\"Dataset\")\n",
    "ax[1].set_title(\"Histogram\")\n",
    "\n",
    "ax[0].set_frame_on(False)\n",
    "ax[0].set_xticks([])\n",
    "ax[0].set_yticks([])\n",
    "for _ax in ax:\n",
    "    _ax.legend()\n",
    "\n",
    "fig.tight_layout()"
   ]
  },
  {
   "cell_type": "markdown",
   "metadata": {},
   "source": [
    "## Grid and tunning"
   ]
  },
  {
   "cell_type": "code",
   "execution_count": null,
   "metadata": {},
   "outputs": [],
   "source": [
    "grid_search = GridSearch(\n",
    "    X,\n",
    "    y,\n",
    "    params_split=params_split,\n",
    "    models_params=black_box[\"regression\"],\n",
    "    normalize=True,\n",
    "    scoring='custom_rmse',\n",
    "    metrics=model_metrics[\"regression\"],\n",
    "    params_norm=params_norm\n",
    ")\n",
    "grid_search.search(cv=5, n_jobs=-1)\n",
    "\n",
    "best_model, best_params = \\\n",
    "    grid_search \\\n",
    "    .get_best_model()"
   ]
  },
  {
   "cell_type": "markdown",
   "metadata": {},
   "source": [
    "## Results"
   ]
  },
  {
   "cell_type": "code",
   "execution_count": null,
   "metadata": {},
   "outputs": [],
   "source": [
    "data_train = pd.DataFrame(\n",
    "    grid_search.X_train,\n",
    "    columns=features\n",
    ")\n",
    "data_train[\"y_true\"] = grid_search.y_train\n",
    "data_train[\"y_pred\"] = grid_search.best_model.predict(grid_search.X_train)"
   ]
  },
  {
   "cell_type": "markdown",
   "metadata": {},
   "source": [
    "## Metrics"
   ]
  },
  {
   "cell_type": "code",
   "execution_count": null,
   "metadata": {},
   "outputs": [],
   "source": [
    "k = 3\n",
    "rm = metrics.RegressionMetrics(data_train, *[\"y_true\", \"y_pred\"])"
   ]
  },
  {
   "cell_type": "code",
   "execution_count": null,
   "metadata": {},
   "outputs": [],
   "source": [
    "results: dict = rm.calculate_metrics(\n",
    "    [\"mape\", \"rmse\", \"kolmogorov_smirnov\", \"confusion_matrix\", \"calculate_kappa\"],\n",
    "    {\n",
    "        \"mape\": {},\n",
    "        \"rmse\": {},\n",
    "        \"kolmogorov_smirnov\": {},\n",
    "        \"confusion_matrix\": {\"n_bins\": k},\n",
    "        \"calculate_kappa\": {\"n_bins\": k}\n",
    "    }\n",
    ")"
   ]
  },
  {
   "cell_type": "markdown",
   "metadata": {},
   "source": [
    "## Plots"
   ]
  },
  {
   "cell_type": "code",
   "execution_count": null,
   "metadata": {},
   "outputs": [],
   "source": [
    "rp = plots.RegressionPlots(data_train, color_palette=[\"#FF4B3E\", \"#1C2127\"])\n",
    "fig, axs = rp.grid_plot(\n",
    "    plot_functions=[\n",
    "        ['graph11', 'graph12', 'graph13'],\n",
    "        ['graph21', 'graph22', ''],\n",
    "        ['graph23', '', '']\n",
    "    ],\n",
    "    plot_args={\n",
    "        'graph11': {\n",
    "            \"plot\": \"scatter\",\n",
    "            \"params\": {\n",
    "                'y_true_col': 'y_true',\n",
    "                'y_pred_col': 'y_pred',\n",
    "                'linecolor': '#1C2127',\n",
    "                'worst_interval': True,\n",
    "                'metrics': rm.metrics[\"calculate_kappa\"],\n",
    "                'class_interval': rm._class_intervals,\n",
    "                'method': 'recall',\n",
    "                'positive': True\n",
    "            }\n",
    "        },\n",
    "        'graph12': {\n",
    "            \"plot\": \"plot_ecdf\",\n",
    "            \"params\": {\n",
    "                'y_true_col': 'y_true',\n",
    "                'y_pred_col': 'y_pred'\n",
    "            }\n",
    "        },\n",
    "        'graph21': {\n",
    "            \"plot\": \"plot_kde\",\n",
    "            \"params\": {\n",
    "                'columns': ['y_true', 'y_pred']\n",
    "            }\n",
    "        },\n",
    "        'graph22': {\n",
    "            \"plot\": \"plot_error_hist\",\n",
    "            \"params\": {\n",
    "                'y_true_col': 'y_true',\n",
    "                'y_pred_col': 'y_pred',\n",
    "                'linecolor': '#1C2127'\n",
    "            }\n",
    "        },\n",
    "        'graph13': {\n",
    "            \"plot\": \"plot_fitted\",\n",
    "            \"params\": {\n",
    "                'y_true_col': 'y_true',\n",
    "                'y_pred_col': 'y_pred',\n",
    "                'condition': (\n",
    "                    (\n",
    "                        rm._worst_interval_kappa[0] <= data_train[\"y_true\"]\n",
    "                    ) & (\n",
    "                        data_train[\"y_true\"] <= rm._worst_interval_kappa[1]\n",
    "                    )\n",
    "                ),\n",
    "                'sample_size': None\n",
    "            }\n",
    "        },\n",
    "        'graph23': {\n",
    "            \"plot\": \"plot_fitted\",\n",
    "            \"params\": {\n",
    "                'y_true_col': 'y_true',\n",
    "                'y_pred_col': 'y_pred',\n",
    "                'condition': None,\n",
    "                'sample_size': None\n",
    "            }\n",
    "        },\n",
    "    },\n",
    "    show_inline=True\n",
    ")"
   ]
  },
  {
   "cell_type": "markdown",
   "metadata": {},
   "source": [
    "## Surrogates"
   ]
  },
  {
   "cell_type": "code",
   "execution_count": null,
   "metadata": {},
   "outputs": [],
   "source": [
    "surrogate = Surrogate(\n",
    "    normalize=True,\n",
    "    scoring=\"custom_rmse\",\n",
    "    white_box=white_box[\"regression\"],\n",
    "    black_box=black_box[\"regression\"],\n",
    "    params_split=params_split,\n",
    "    params_norm=params_norm,\n",
    "    metrics=model_metrics[\"regression\"]\n",
    ")"
   ]
  },
  {
   "cell_type": "code",
   "execution_count": null,
   "metadata": {},
   "outputs": [],
   "source": [
    "surrogate.fit(X, y, cv=cv, n_jobs=-1)"
   ]
  },
  {
   "cell_type": "code",
   "execution_count": null,
   "metadata": {},
   "outputs": [],
   "source": [
    "pd.DataFrame(surrogate.grid_search_black._metrics).T"
   ]
  },
  {
   "cell_type": "code",
   "execution_count": null,
   "metadata": {},
   "outputs": [],
   "source": [
    "pd.DataFrame(surrogate.grid_search_white._metrics).T"
   ]
  },
  {
   "cell_type": "code",
   "execution_count": null,
   "metadata": {},
   "outputs": [],
   "source": [
    "surrogate.best_model_black"
   ]
  },
  {
   "cell_type": "code",
   "execution_count": null,
   "metadata": {},
   "outputs": [],
   "source": [
    "surrogate.best_model_white"
   ]
  },
  {
   "cell_type": "code",
   "execution_count": null,
   "metadata": {},
   "outputs": [],
   "source": [
    "black_box_predictions, white_box_predictions = surrogate.predict(surrogate.grid_search_black.X_test)"
   ]
  },
  {
   "cell_type": "code",
   "execution_count": null,
   "metadata": {},
   "outputs": [],
   "source": [
    "fig_n2, ax_n2 = plt.subplots(1, 1, figsize=(20, 6))\n",
    "plt.plot(\n",
    "    black_box_predictions,\n",
    "    white_box_predictions,\n",
    "    \"*\",\n",
    "    color=\"#FF4B3E\"\n",
    ")"
   ]
  }
 ],
 "metadata": {
  "kernelspec": {
   "display_name": "mlpr-XIgvnw9x-py3.10",
   "language": "python",
   "name": "python3"
  },
  "language_info": {
   "codemirror_mode": {
    "name": "ipython",
    "version": 3
   },
   "file_extension": ".py",
   "mimetype": "text/x-python",
   "name": "python",
   "nbconvert_exporter": "python",
   "pygments_lexer": "ipython3",
   "version": "3.10.12"
  }
 },
 "nbformat": 4,
 "nbformat_minor": 2
}
