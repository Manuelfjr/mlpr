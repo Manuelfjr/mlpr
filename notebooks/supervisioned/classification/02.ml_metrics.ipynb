{
 "cells": [
  {
   "cell_type": "markdown",
   "metadata": {},
   "source": [
    "## Imports"
   ]
  },
  {
   "cell_type": "code",
   "execution_count": 4,
   "metadata": {},
   "outputs": [],
   "source": [
    "from nb_utils import set_root\n",
    "\n",
    "PROJECT_DIR = set_root(4, library=\"src\")"
   ]
  },
  {
   "cell_type": "code",
   "execution_count": 5,
   "metadata": {},
   "outputs": [],
   "source": [
    "import warnings\n",
    "from functools import partial\n",
    "\n",
    "import matplotlib.pyplot as plt\n",
    "import numpy as np\n",
    "import pandas as pd\n",
    "from sklearn.base import BaseEstimator\n",
    "from sklearn.datasets import load_breast_cancer\n",
    "from sklearn.decomposition import PCA\n",
    "from sklearn.ensemble import GradientBoostingClassifier, RandomForestClassifier\n",
    "from sklearn.linear_model import LogisticRegression\n",
    "from sklearn.metrics import accuracy_score\n",
    "from sklearn.model_selection import ParameterGrid, train_test_split\n",
    "from sklearn.naive_bayes import GaussianNB\n",
    "from sklearn.svm import SVC\n",
    "from sklearn.tree import DecisionTreeClassifier\n",
    "from tqdm import tqdm\n",
    "\n",
    "from mlpr.ml.supervisioned.classification.metrics import ClassificationMetrics\n",
    "from mlpr.ml.supervisioned.classification.utils import generate_colors\n",
    "\n",
    "warnings.filterwarnings(\"ignore\")\n",
    "\n",
    "%reload_ext autoreload"
   ]
  },
  {
   "cell_type": "markdown",
   "metadata": {},
   "source": [
    "## Parameters"
   ]
  },
  {
   "cell_type": "code",
   "execution_count": 6,
   "metadata": {},
   "outputs": [],
   "source": [
    "target_true: str = \"label_true\"\n",
    "target_pred: str = \"label_pred\""
   ]
  },
  {
   "cell_type": "code",
   "execution_count": 7,
   "metadata": {},
   "outputs": [],
   "source": [
    "random_state: int = 42"
   ]
  },
  {
   "cell_type": "code",
   "execution_count": 8,
   "metadata": {},
   "outputs": [],
   "source": [
    "split: dict[str, dict[str, any]] = {\n",
    "    \"test_size\": 0.2,\n",
    "    \"random_state\": random_state\n",
    "}"
   ]
  },
  {
   "cell_type": "code",
   "execution_count": 9,
   "metadata": {},
   "outputs": [],
   "source": [
    "np.random.seed(random_state)"
   ]
  },
  {
   "cell_type": "code",
   "execution_count": 10,
   "metadata": {},
   "outputs": [],
   "source": [
    "models: dict[BaseEstimator, dict] = {\n",
    "    RandomForestClassifier: {\n",
    "        'n_estimators': [100],\n",
    "        'max_depth': [None, 10],\n",
    "        'random_state': [random_state]\n",
    "    },\n",
    "    GradientBoostingClassifier: {\n",
    "        'n_estimators': [100],\n",
    "        'learning_rate': [0.1],\n",
    "        'random_state': [random_state]\n",
    "    },\n",
    "    LogisticRegression: {\n",
    "        'C': [1.0],\n",
    "        'penalty': ['l2'],\n",
    "        'random_state': [random_state],\n",
    "    },\n",
    "    GaussianNB: {\n",
    "        'var_smoothing': [1e-9]\n",
    "    },\n",
    "    SVC: {\n",
    "        'C': [1.0],\n",
    "        'kernel': ['rbf'],\n",
    "        'random_state': [random_state]\n",
    "    },\n",
    "    DecisionTreeClassifier: {\n",
    "        'criterion': ['gini'],\n",
    "        'max_depth': [None, 10],\n",
    "        'random_state': [random_state]\n",
    "    }\n",
    "}"
   ]
  },
  {
   "cell_type": "markdown",
   "metadata": {},
   "source": [
    "## Methods"
   ]
  },
  {
   "cell_type": "code",
   "execution_count": 11,
   "metadata": {},
   "outputs": [],
   "source": [
    "def transform_with_pca(X: pd.DataFrame, **kwargs) -> pd.DataFrame:\n",
    "    \"\"\"\n",
    "    Transform a DataFrame using PCA.\n",
    "\n",
    "    Parameters\n",
    "    ----------\n",
    "    X : pandas.DataFrame\n",
    "        The DataFrame to transform.\n",
    "\n",
    "    Returns\n",
    "    -------\n",
    "    pandas.DataFrame\n",
    "        The transformed DataFrame.\n",
    "    \"\"\"\n",
    "    pca = PCA(**kwargs)\n",
    "    transformed: np.ndarray = pca.fit_transform(X)\n",
    "    return transformed"
   ]
  },
  {
   "cell_type": "code",
   "execution_count": 12,
   "metadata": {},
   "outputs": [],
   "source": [
    "def accuracy(y_true: np.ndarray, y_pred: np.ndarray, **kwargs) -> float:\n",
    "    \"\"\"\n",
    "    Compute the custom accuracy score.\n",
    "    \"\"\"\n",
    "    return accuracy_score(y_true, y_pred, **kwargs)"
   ]
  },
  {
   "cell_type": "markdown",
   "metadata": {},
   "source": [
    "## Read dataset"
   ]
  },
  {
   "cell_type": "code",
   "execution_count": 13,
   "metadata": {},
   "outputs": [],
   "source": [
    "content = load_breast_cancer()\n",
    "data: np.ndarray = content[\"data\"]\n",
    "features: list = content[\"feature_names\"]\n",
    "labels: np.array = content[\"target\"]"
   ]
  },
  {
   "cell_type": "markdown",
   "metadata": {},
   "source": [
    "## Get X and Y"
   ]
  },
  {
   "cell_type": "code",
   "execution_count": 14,
   "metadata": {},
   "outputs": [],
   "source": [
    "X: np.ndarray = data\n",
    "y: np.array = labels"
   ]
  },
  {
   "cell_type": "code",
   "execution_count": 15,
   "metadata": {},
   "outputs": [
    {
     "data": {
      "text/plain": [
       "((569, 30), (569,))"
      ]
     },
     "execution_count": 15,
     "metadata": {},
     "output_type": "execute_result"
    }
   ],
   "source": [
    "X.shape, y.shape"
   ]
  },
  {
   "cell_type": "markdown",
   "metadata": {},
   "source": [
    "## Transform dataset"
   ]
  },
  {
   "cell_type": "code",
   "execution_count": 16,
   "metadata": {},
   "outputs": [],
   "source": [
    "X_pca = transform_with_pca(X, n_components=2)"
   ]
  },
  {
   "cell_type": "markdown",
   "metadata": {},
   "source": [
    "## Split dataset"
   ]
  },
  {
   "cell_type": "code",
   "execution_count": 17,
   "metadata": {},
   "outputs": [],
   "source": [
    "X_train, X_test, y_train, y_test = train_test_split(\n",
    "    X_pca,\n",
    "    y,\n",
    "    test_size=0.2,\n",
    "    random_state=42,\n",
    "    stratify=y\n",
    ")"
   ]
  },
  {
   "cell_type": "markdown",
   "metadata": {},
   "source": [
    "## Dataset behavior"
   ]
  },
  {
   "cell_type": "code",
   "execution_count": 18,
   "metadata": {},
   "outputs": [],
   "source": [
    "folds: dict[str, dict[str, any]] = {\n",
    "    \"dataset\": {\n",
    "        \"X\": X_pca,\n",
    "        \"y\": y,\n",
    "        \"graph\": {}\n",
    "    },\n",
    "    \"train\": {\n",
    "        \"X\": X_train,\n",
    "        \"y\": y_train,\n",
    "        \"graph\": {}\n",
    "    },\n",
    "    \"test\": {\n",
    "        \"X\": X_test,\n",
    "        \"y\": y_test,\n",
    "        \"graph\": {}\n",
    "    }\n",
    "}"
   ]
  },
  {
   "cell_type": "code",
   "execution_count": 19,
   "metadata": {},
   "outputs": [],
   "source": [
    "centers: dict = {\n",
    "    state: {k: fold[\"X\"][fold[\"y\"] == k].mean(axis=0) for k in np.unique(fold[\"y\"])} for state, fold in folds.items()\n",
    "}"
   ]
  },
  {
   "cell_type": "code",
   "execution_count": 20,
   "metadata": {},
   "outputs": [
    {
     "data": {
      "image/png": "[encoded data removed]",
      "text/plain": [
       "<Figure size 2000x600 with 3 Axes>"
      ]
     },
     "metadata": {},
     "output_type": "display_data"
    }
   ],
   "source": [
    "markers: list[str] = ['o', 'v']\n",
    "fig, ax = plt.subplots(1, 3, figsize=(20, 6))\n",
    "\n",
    "colors: list = generate_colors(\"FF4B3E\", \"1C2127\", len(np.unique(y)))\n",
    "\n",
    "for idx, (state, fold) in enumerate(folds.items()):\n",
    "    for i, k in enumerate(np.unique(y)):\n",
    "        ax[idx].scatter(\n",
    "            fold[\"X\"][:, 0][fold[\"y\"] == k],\n",
    "            fold[\"X\"][:, 1][fold[\"y\"] == k],\n",
    "            marker=markers[i % len(markers)],\n",
    "            color=colors[i],\n",
    "            label=f\"c{i}\",\n",
    "            **fold[\"graph\"]\n",
    "        )\n",
    "    ax[idx].legend()\n",
    "\n",
    "    ax[idx].set_title(state)\n",
    "    ax[idx].set_frame_on(False)\n",
    "    ax[idx].set_xticks([])\n",
    "    ax[idx].set_yticks([])\n",
    "    for i, center in enumerate(centers[state].values()):\n",
    "        ax[idx].scatter(\n",
    "            center[0],\n",
    "            center[1],\n",
    "            color=\"white\",\n",
    "            linewidths=3,\n",
    "            marker=\"o\",\n",
    "            edgecolor=\"black\",\n",
    "            s=120,\n",
    "            label=\"center\" if i == 0 else None\n",
    "        )\n",
    "plt.legend()\n",
    "\n",
    "fig.tight_layout()"
   ]
  },
  {
   "cell_type": "markdown",
   "metadata": {},
   "source": [
    "## Training a Random Forest"
   ]
  },
  {
   "cell_type": "code",
   "execution_count": 21,
   "metadata": {},
   "outputs": [],
   "source": [
    "clf = RandomForestClassifier(random_state=random_state)\n",
    "clf.fit(X_train, y_train)\n",
    "y_pred = clf.predict(X_test)"
   ]
  },
  {
   "cell_type": "markdown",
   "metadata": {},
   "source": [
    "## Evaluation the model"
   ]
  },
  {
   "cell_type": "code",
   "execution_count": 22,
   "metadata": {},
   "outputs": [
    {
     "name": "stdout",
     "output_type": "stream",
     "text": [
      "{'accuracy_score': [0.9210526315789473], 'precision_score': [0.913691451031772], 'recall_score': [0.9176587301587302], 'f1_score': [0.9155902920608803], 'confusion_matrix': array([[38,  4],\n",
      "       [ 5, 67]])}\n"
     ]
    }
   ],
   "source": [
    "metrics = ClassificationMetrics(\n",
    "    {\n",
    "        \"accuracy_score\": {},\n",
    "        \"precision_score\": {\"average\": \"macro\"},\n",
    "        \"recall_score\": {\"average\": \"macro\"},\n",
    "        \"f1_score\": {\"average\": \"macro\"},\n",
    "        \"confusion_matrix\": {}\n",
    "    }\n",
    ")\n",
    "\n",
    "metrics.compute_metrics(y_test, y_pred)\n",
    "\n",
    "print(metrics.results_)"
   ]
  },
  {
   "cell_type": "code",
   "execution_count": 23,
   "metadata": {},
   "outputs": [],
   "source": [
    "metrics.results_[\"confusion_matrix\"] = [metrics.results_[\"confusion_matrix\"]]"
   ]
  },
  {
   "cell_type": "code",
   "execution_count": 24,
   "metadata": {},
   "outputs": [
    {
     "data": {
      "text/html": [
       "<div>\n",
       "<style scoped>\n",
       "    .dataframe tbody tr th:only-of-type {\n",
       "        vertical-align: middle;\n",
       "    }\n",
       "\n",
       "    .dataframe tbody tr th {\n",
       "        vertical-align: top;\n",
       "    }\n",
       "\n",
       "    .dataframe thead th {\n",
       "        text-align: right;\n",
       "    }\n",
       "</style>\n",
       "<table border=\"1\" class=\"dataframe\">\n",
       "  <thead>\n",
       "    <tr style=\"text-align: right;\">\n",
       "      <th></th>\n",
       "      <th>accuracy_score</th>\n",
       "      <th>precision_score</th>\n",
       "      <th>recall_score</th>\n",
       "      <th>f1_score</th>\n",
       "      <th>confusion_matrix</th>\n",
       "    </tr>\n",
       "  </thead>\n",
       "  <tbody>\n",
       "    <tr>\n",
       "      <th>0</th>\n",
       "      <td>0.921053</td>\n",
       "      <td>0.913691</td>\n",
       "      <td>0.917659</td>\n",
       "      <td>0.91559</td>\n",
       "      <td>[[38, 4], [5, 67]]</td>\n",
       "    </tr>\n",
       "  </tbody>\n",
       "</table>\n",
       "</div>"
      ],
      "text/plain": [
       "   accuracy_score  precision_score  recall_score  f1_score    confusion_matrix\n",
       "0        0.921053         0.913691      0.917659   0.91559  [[38, 4], [5, 67]]"
      ]
     },
     "execution_count": 24,
     "metadata": {},
     "output_type": "execute_result"
    }
   ],
   "source": [
    "pd.DataFrame(metrics.results_)"
   ]
  },
  {
   "cell_type": "markdown",
   "metadata": {},
   "source": [
    "## Calculate a custom metric"
   ]
  },
  {
   "cell_type": "code",
   "execution_count": 25,
   "metadata": {},
   "outputs": [
    {
     "name": "stdout",
     "output_type": "stream",
     "text": [
      "{'custom_accuracy': [105.0]}\n"
     ]
    }
   ],
   "source": [
    "metrics = ClassificationMetrics(\n",
    "    {\n",
    "        \"custom_accuracy\": {}\n",
    "    }\n",
    ")\n",
    "metrics.add_metric(\"custom_accuracy\", partial(accuracy, normalize=False))\n",
    "\n",
    "metrics.compute_metrics(y_test, y_pred)\n",
    "\n",
    "print(metrics.results_)"
   ]
  },
  {
   "cell_type": "markdown",
   "metadata": {},
   "source": [
    "## Training multiples models"
   ]
  },
  {
   "cell_type": "code",
   "execution_count": 26,
   "metadata": {},
   "outputs": [
    {
     "name": "stderr",
     "output_type": "stream",
     "text": [
      "100%|██████████| 2/2 [00:00<00:00,  3.63it/s]\n",
      "100%|██████████| 1/1 [00:00<00:00,  4.67it/s]\n",
      "100%|██████████| 1/1 [00:00<00:00, 97.14it/s]\n",
      "100%|██████████| 1/1 [00:00<00:00, 339.73it/s]\n",
      "100%|██████████| 1/1 [00:00<00:00, 144.85it/s]\n",
      "100%|██████████| 2/2 [00:00<00:00, 366.19it/s]\n",
      "100%|██████████| 6/6 [00:00<00:00,  7.33it/s]\n"
     ]
    }
   ],
   "source": [
    "trained_models: dict = {}\n",
    "for model, params in tqdm(models.items()):\n",
    "    param_grid = ParameterGrid(params)\n",
    "    for param_combination in tqdm(param_grid):\n",
    "        model_instance: BaseEstimator = model(**param_combination)\n",
    "        model_instance.fit(X_train, y_train)\n",
    "        model_name: str = f\"{model.__name__}_{str(param_combination)}\"\n",
    "        model_name: str = (\n",
    "            model_name\n",
    "            .replace(\"{}\", \"\")\n",
    "            .replace(\"{\", \"_\")\n",
    "            .replace(\"}\", \"_\")\n",
    "            .replace(\"'\", \"\")\n",
    "            .replace(\": \", \"_\")\n",
    "            .replace(\", \", \"_\")\n",
    "            .replace(\".\", \"_\")\n",
    "        )\n",
    "        if \"_\" in model_name[-1]:\n",
    "            model_name = model_name[:(-1)]\n",
    "        trained_models[model_name] = model_instance"
   ]
  },
  {
   "cell_type": "markdown",
   "metadata": {},
   "source": [
    "## Evaluation models"
   ]
  },
  {
   "cell_type": "code",
   "execution_count": 27,
   "metadata": {},
   "outputs": [],
   "source": [
    "dict_metrics: dict[str, dict] = {\n",
    "    \"accuracy_score\": {},\n",
    "    \"precision_score\": {\"average\": \"macro\"},\n",
    "    \"recall_score\": {\"average\": \"macro\"},\n",
    "    \"f1_score\": {\"average\": \"macro\"},\n",
    "    \"confusion_matrix\": {}\n",
    "}\n",
    "metrics = ClassificationMetrics(dict_metrics)"
   ]
  },
  {
   "cell_type": "code",
   "execution_count": 28,
   "metadata": {},
   "outputs": [],
   "source": [
    "results = pd.DataFrame(\n",
    "    columns=dict_metrics.keys()\n",
    ")\n",
    "for name, model in trained_models.items():\n",
    "    y_pred = model.predict(X_test)\n",
    "    metrics.compute_metrics(y_test, y_pred)\n",
    "    metrics.results_[\"confusion_matrix\"] = [metrics.results_[\"confusion_matrix\"]]\n",
    "    results: pd.DataFrame = pd.concat(\n",
    "        [\n",
    "            results, pd.DataFrame(metrics.results_, index=[name])\n",
    "        ]\n",
    "    )"
   ]
  },
  {
   "cell_type": "code",
   "execution_count": 29,
   "metadata": {},
   "outputs": [
    {
     "data": {
      "text/html": [
       "<div>\n",
       "<style scoped>\n",
       "    .dataframe tbody tr th:only-of-type {\n",
       "        vertical-align: middle;\n",
       "    }\n",
       "\n",
       "    .dataframe tbody tr th {\n",
       "        vertical-align: top;\n",
       "    }\n",
       "\n",
       "    .dataframe thead th {\n",
       "        text-align: right;\n",
       "    }\n",
       "</style>\n",
       "<table border=\"1\" class=\"dataframe\">\n",
       "  <thead>\n",
       "    <tr style=\"text-align: right;\">\n",
       "      <th></th>\n",
       "      <th>accuracy_score</th>\n",
       "      <th>precision_score</th>\n",
       "      <th>recall_score</th>\n",
       "      <th>f1_score</th>\n",
       "      <th>confusion_matrix</th>\n",
       "    </tr>\n",
       "  </thead>\n",
       "  <tbody>\n",
       "    <tr>\n",
       "      <th>RandomForestClassifier__max_depth_None_n_estimators_100_random_state_42</th>\n",
       "      <td>0.921053</td>\n",
       "      <td>0.913691</td>\n",
       "      <td>0.917659</td>\n",
       "      <td>0.915590</td>\n",
       "      <td>[[38, 4], [5, 67]]</td>\n",
       "    </tr>\n",
       "    <tr>\n",
       "      <th>RandomForestClassifier__max_depth_10_n_estimators_100_random_state_42</th>\n",
       "      <td>0.929825</td>\n",
       "      <td>0.924603</td>\n",
       "      <td>0.924603</td>\n",
       "      <td>0.924603</td>\n",
       "      <td>[[38, 4], [4, 68]]</td>\n",
       "    </tr>\n",
       "    <tr>\n",
       "      <th>GradientBoostingClassifier__learning_rate_0_1_n_estimators_100_random_state_42</th>\n",
       "      <td>0.921053</td>\n",
       "      <td>0.913691</td>\n",
       "      <td>0.917659</td>\n",
       "      <td>0.915590</td>\n",
       "      <td>[[38, 4], [5, 67]]</td>\n",
       "    </tr>\n",
       "    <tr>\n",
       "      <th>LogisticRegression__C_1_0_penalty_l2_random_state_42</th>\n",
       "      <td>0.938596</td>\n",
       "      <td>0.941026</td>\n",
       "      <td>0.926587</td>\n",
       "      <td>0.932981</td>\n",
       "      <td>[[37, 5], [2, 70]]</td>\n",
       "    </tr>\n",
       "    <tr>\n",
       "      <th>GaussianNB__var_smoothing_1e-09</th>\n",
       "      <td>0.903509</td>\n",
       "      <td>0.907511</td>\n",
       "      <td>0.883929</td>\n",
       "      <td>0.893467</td>\n",
       "      <td>[[34, 8], [3, 69]]</td>\n",
       "    </tr>\n",
       "    <tr>\n",
       "      <th>SVC__C_1_0_kernel_rbf_random_state_42</th>\n",
       "      <td>0.921053</td>\n",
       "      <td>0.921538</td>\n",
       "      <td>0.907738</td>\n",
       "      <td>0.913832</td>\n",
       "      <td>[[36, 6], [3, 69]]</td>\n",
       "    </tr>\n",
       "    <tr>\n",
       "      <th>DecisionTreeClassifier__criterion_gini_max_depth_None_random_state_42</th>\n",
       "      <td>0.894737</td>\n",
       "      <td>0.886905</td>\n",
       "      <td>0.886905</td>\n",
       "      <td>0.886905</td>\n",
       "      <td>[[36, 6], [6, 66]]</td>\n",
       "    </tr>\n",
       "    <tr>\n",
       "      <th>DecisionTreeClassifier__criterion_gini_max_depth_10_random_state_42</th>\n",
       "      <td>0.885965</td>\n",
       "      <td>0.878884</td>\n",
       "      <td>0.875000</td>\n",
       "      <td>0.876859</td>\n",
       "      <td>[[35, 7], [6, 66]]</td>\n",
       "    </tr>\n",
       "  </tbody>\n",
       "</table>\n",
       "</div>"
      ],
      "text/plain": [
       "                                                    accuracy_score  \\\n",
       "RandomForestClassifier__max_depth_None_n_estima...        0.921053   \n",
       "RandomForestClassifier__max_depth_10_n_estimato...        0.929825   \n",
       "GradientBoostingClassifier__learning_rate_0_1_n...        0.921053   \n",
       "LogisticRegression__C_1_0_penalty_l2_random_sta...        0.938596   \n",
       "GaussianNB__var_smoothing_1e-09                           0.903509   \n",
       "SVC__C_1_0_kernel_rbf_random_state_42                     0.921053   \n",
       "DecisionTreeClassifier__criterion_gini_max_dept...        0.894737   \n",
       "DecisionTreeClassifier__criterion_gini_max_dept...        0.885965   \n",
       "\n",
       "                                                    precision_score  \\\n",
       "RandomForestClassifier__max_depth_None_n_estima...         0.913691   \n",
       "RandomForestClassifier__max_depth_10_n_estimato...         0.924603   \n",
       "GradientBoostingClassifier__learning_rate_0_1_n...         0.913691   \n",
       "LogisticRegression__C_1_0_penalty_l2_random_sta...         0.941026   \n",
       "GaussianNB__var_smoothing_1e-09                            0.907511   \n",
       "SVC__C_1_0_kernel_rbf_random_state_42                      0.921538   \n",
       "DecisionTreeClassifier__criterion_gini_max_dept...         0.886905   \n",
       "DecisionTreeClassifier__criterion_gini_max_dept...         0.878884   \n",
       "\n",
       "                                                    recall_score  f1_score  \\\n",
       "RandomForestClassifier__max_depth_None_n_estima...      0.917659  0.915590   \n",
       "RandomForestClassifier__max_depth_10_n_estimato...      0.924603  0.924603   \n",
       "GradientBoostingClassifier__learning_rate_0_1_n...      0.917659  0.915590   \n",
       "LogisticRegression__C_1_0_penalty_l2_random_sta...      0.926587  0.932981   \n",
       "GaussianNB__var_smoothing_1e-09                         0.883929  0.893467   \n",
       "SVC__C_1_0_kernel_rbf_random_state_42                   0.907738  0.913832   \n",
       "DecisionTreeClassifier__criterion_gini_max_dept...      0.886905  0.886905   \n",
       "DecisionTreeClassifier__criterion_gini_max_dept...      0.875000  0.876859   \n",
       "\n",
       "                                                      confusion_matrix  \n",
       "RandomForestClassifier__max_depth_None_n_estima...  [[38, 4], [5, 67]]  \n",
       "RandomForestClassifier__max_depth_10_n_estimato...  [[38, 4], [4, 68]]  \n",
       "GradientBoostingClassifier__learning_rate_0_1_n...  [[38, 4], [5, 67]]  \n",
       "LogisticRegression__C_1_0_penalty_l2_random_sta...  [[37, 5], [2, 70]]  \n",
       "GaussianNB__var_smoothing_1e-09                     [[34, 8], [3, 69]]  \n",
       "SVC__C_1_0_kernel_rbf_random_state_42               [[36, 6], [3, 69]]  \n",
       "DecisionTreeClassifier__criterion_gini_max_dept...  [[36, 6], [6, 66]]  \n",
       "DecisionTreeClassifier__criterion_gini_max_dept...  [[35, 7], [6, 66]]  "
      ]
     },
     "execution_count": 29,
     "metadata": {},
     "output_type": "execute_result"
    }
   ],
   "source": [
    "results"
   ]
  }
 ],
 "metadata": {
  "kernelspec": {
   "display_name": "mlpr-XIgvnw9x-py3.10",
   "language": "python",
   "name": "python3"
  },
  "language_info": {
   "codemirror_mode": {
    "name": "ipython",
    "version": 3
   },
   "file_extension": ".py",
   "mimetype": "text/x-python",
   "name": "python",
   "nbconvert_exporter": "python",
   "pygments_lexer": "ipython3",
   "version": "3.10.12"
  }
 },
 "nbformat": 4,
 "nbformat_minor": 2
}
