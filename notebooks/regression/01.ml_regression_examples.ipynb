{
 "cells": [
  {
   "cell_type": "markdown",
   "metadata": {},
   "source": [
    "## Imports"
   ]
  },
  {
   "cell_type": "code",
   "execution_count": null,
   "metadata": {},
   "outputs": [],
   "source": [
    "from nb_utils import set_root\n",
    "PROJECT_DIR = set_root(3)\n",
    "print(\"PROJECT_DIR: \" + str(PROJECT_DIR))"
   ]
  },
  {
   "cell_type": "code",
   "execution_count": null,
   "metadata": {},
   "outputs": [],
   "source": [
    "from mlpr.ml.supervisioned.regression import metrics, plots\n",
    "from mlpr.ml.tunning.grid_search import GridSearch\n",
    "from mlpr.reports.create import ReportGenerator\n",
    "\n",
    "from utils.reader import read_file_yaml\n",
    "\n",
    "import pandas as pd\n",
    "import numpy as np\n",
    "import sklearn.datasets as sk_datasets\n",
    "from sklearn.linear_model import Ridge, Lasso\n",
    "from sklearn.svm import SVR\n",
    "from sklearn.ensemble import RandomForestRegressor\n",
    "\n",
    "from sklearn.ensemble import GradientBoostingRegressor\n",
    "from xgboost import XGBRegressor\n",
    "\n",
    "%reload_ext autoreload"
   ]
  },
  {
   "cell_type": "markdown",
   "metadata": {},
   "source": [
    "## Parameters"
   ]
  },
  {
   "cell_type": "code",
   "execution_count": null,
   "metadata": {},
   "outputs": [],
   "source": [
    "path_data = PROJECT_DIR  / 'data'\n",
    "path_conf = PROJECT_DIR  / 'conf'\n",
    "path_templates = PROJECT_DIR / 'templates'\n",
    "path_assets = PROJECT_DIR / 'assets'\n",
    "\n",
    "path_intermediate = path_data / '02_intermediate'\n",
    "path_models = path_data / '04_models'\n",
    "path_reports = path_data / '05_reports'\n",
    "\n",
    "path_reports_regression = path_templates / \"regression\"\n",
    "file_path_reports = path_reports / \"report_model.html\"\n",
    "\n",
    "parameters = read_file_yaml(path_conf / 'params.yaml')\n",
    "\n",
    "datasets = parameters[\"datasets\"]\n",
    "n_seed = parameters[\"experiments\"][\"n_seed\"]"
   ]
  },
  {
   "cell_type": "code",
   "execution_count": null,
   "metadata": {},
   "outputs": [],
   "source": [
    "np.random.seed(n_seed)"
   ]
  },
  {
   "cell_type": "markdown",
   "metadata": {},
   "source": [
    "## Read"
   ]
  },
  {
   "cell_type": "code",
   "execution_count": null,
   "metadata": {},
   "outputs": [],
   "source": [
    "content = getattr(sk_datasets, datasets[\"diabetes\"][\"path\"])()\n",
    "data = pd.DataFrame(content[\"data\"], columns=content[\"feature_names\"])\n",
    "data[\"target\"] = content[\"target\"]"
   ]
  },
  {
   "cell_type": "markdown",
   "metadata": {},
   "source": [
    "## Split labels"
   ]
  },
  {
   "cell_type": "code",
   "execution_count": null,
   "metadata": {},
   "outputs": [],
   "source": [
    "X = data.drop(\"target\", axis=1)\n",
    "y = data[\"target\"].values"
   ]
  },
  {
   "cell_type": "markdown",
   "metadata": {},
   "source": [
    "## Modelling"
   ]
  },
  {
   "cell_type": "code",
   "execution_count": null,
   "metadata": {},
   "outputs": [],
   "source": [
    "models_params = {\n",
    "    Ridge: {'alpha': [0.1, 1.0, 10.0], 'random_state': [n_seed]},\n",
    "    Lasso: {'alpha': [0.1, 1.0, 10.0], 'random_state': [n_seed]},\n",
    "    SVR: {'C': [0.1, 1.0, 10.0], 'kernel': ['linear', 'rbf']},\n",
    "    RandomForestRegressor: {'n_estimators': [10, 50, 100], 'max_depth': [None, 5, 10], 'random_state': [n_seed]},\n",
    "    GradientBoostingRegressor: {'n_estimators': [100, 200], 'learning_rate': [0.1, 0.05, 0.01], 'random_state': [n_seed]},\n",
    "    XGBRegressor: {'n_estimators': [100, 200], 'learning_rate': [0.1, 0.05, 0.01], 'random_state': [n_seed]}\n",
    "}\n",
    "\n",
    "params_split = {'test_size': 0.25, 'random_state': n_seed}\n",
    "params_norm = {'with_mean': True, 'with_std': True}\n",
    "\n",
    "grid_search = GridSearch(\n",
    "    X,\n",
    "    y,\n",
    "    params_split=params_split,\n",
    "    models_params=models_params,\n",
    "    normalize=True,\n",
    "    params_norm=params_norm\n",
    "    )\n",
    "grid_search.search()\n",
    "\n",
    "best_model, best_params = \\\n",
    "    grid_search \\\n",
    "        .get_best_model()\n"
   ]
  },
  {
   "cell_type": "markdown",
   "metadata": {},
   "source": [
    "## Predictions"
   ]
  },
  {
   "cell_type": "code",
   "execution_count": null,
   "metadata": {},
   "outputs": [],
   "source": [
    "data_test = pd.DataFrame(\n",
    "    grid_search.X_train,\n",
    "    columns=X.columns\n",
    ")\n",
    "data_test[\"y_true\"] = grid_search.y_train\n",
    "data_test[\"y_pred\"] = grid_search.best_model.predict(grid_search.X_train)"
   ]
  },
  {
   "cell_type": "code",
   "execution_count": null,
   "metadata": {},
   "outputs": [],
   "source": [
    "rp = plots.RegressionPlots(data_test, color_palette=[\"#FF4B3E\", \"#1C2127\"])"
   ]
  },
  {
   "cell_type": "code",
   "execution_count": null,
   "metadata": {},
   "outputs": [],
   "source": [
    "fig, axs = rp.grid_plot(\n",
    "    plot_functions=[\n",
    "        ['scatter', 'plot_ecdf'],\n",
    "        ['plot_kde', 'plot_error_hist']\n",
    "    ],\n",
    "    plot_args={\n",
    "        'scatter': {'y_true_col': 'y_true', 'y_pred_col': 'y_pred', 'linecolor': '#1C2127'},\n",
    "        'plot_ecdf': {'y_true_col': 'y_true', 'y_pred_col': 'y_pred'},\n",
    "        'plot_kde': {'columns': ['y_true', 'y_pred']},\n",
    "        'plot_error_hist': {'y_true_col': 'y_true', 'y_pred_col': 'y_pred', 'linecolor': '#1C2127'}\n",
    "    },\n",
    "    show_inline=True\n",
    ")"
   ]
  },
  {
   "cell_type": "markdown",
   "metadata": {},
   "source": [
    "## Metrics"
   ]
  },
  {
   "cell_type": "code",
   "execution_count": null,
   "metadata": {},
   "outputs": [],
   "source": [
    "k = 4\n",
    "rm = metrics.RegressionMetrics(data_test, *[\"y_true\", \"y_pred\"])"
   ]
  },
  {
   "cell_type": "code",
   "execution_count": null,
   "metadata": {},
   "outputs": [],
   "source": [
    "results = rm.calculate_metrics(\n",
    "    [\"mape\", \"rmse\", \"kolmogorov_smirnov\", \"confusion_matrix\", \"calculate_kappa\"],\n",
    "    {\n",
    "        \"mape\": {},\n",
    "        \"rmse\": {},\n",
    "        \"kolmogorov_smirnov\": {},\n",
    "        \"confusion_matrix\": {\"n_bins\": k},\n",
    "        \"calculate_kappa\": {\"n_bins\": k}\n",
    "    }\n",
    ")"
   ]
  },
  {
   "cell_type": "markdown",
   "metadata": {},
   "source": [
    "## Save image"
   ]
  },
  {
   "cell_type": "code",
   "execution_count": null,
   "metadata": {},
   "outputs": [],
   "source": [
    "fig.savefig(\n",
    "    path_assets / \"regression_plots.png\",\n",
    "    dpi=400,\n",
    "    bbox_inches='tight'\n",
    ")"
   ]
  },
  {
   "cell_type": "markdown",
   "metadata": {},
   "source": [
    "## Reports"
   ]
  },
  {
   "cell_type": "code",
   "execution_count": null,
   "metadata": {},
   "outputs": [],
   "source": [
    "report = ReportGenerator(template_dir = path_reports_regression)\n",
    "report.render(\n",
    "    metrics=results,\n",
    "    template_file=\"template_v3.html\",\n",
    "    output_file=file_path_reports,\n",
    "    image_path=path_intermediate / \"regression_plots.png\"\n",
    ")"
   ]
  },
  {
   "cell_type": "code",
   "execution_count": null,
   "metadata": {},
   "outputs": [],
   "source": [
    "results"
   ]
  }
 ],
 "metadata": {
  "kernelspec": {
   "display_name": "template-hooks-BxiOP-Ga-py3.10",
   "language": "python",
   "name": "python3"
  },
  "language_info": {
   "codemirror_mode": {
    "name": "ipython",
    "version": 3
   },
   "file_extension": ".py",
   "mimetype": "text/x-python",
   "name": "python",
   "nbconvert_exporter": "python",
   "pygments_lexer": "ipython3",
   "version": "3.10.12"
  }
 },
 "nbformat": 4,
 "nbformat_minor": 2
}
