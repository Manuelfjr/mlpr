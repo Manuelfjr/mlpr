{
 "cells": [
  {
   "cell_type": "markdown",
   "metadata": {},
   "source": [
    "## Imports"
   ]
  },
  {
   "cell_type": "code",
   "execution_count": 1,
   "metadata": {},
   "outputs": [
    {
     "name": "stdout",
     "output_type": "stream",
     "text": [
      "PROJECT_DIR: /home/manuel/Documents/projects/libs/mlpr\n"
     ]
    }
   ],
   "source": [
    "from nb_utils import set_root\n",
    "\n",
    "PROJECT_DIR = set_root(3)\n",
    "print(\"PROJECT_DIR: \" + str(PROJECT_DIR))"
   ]
  },
  {
   "cell_type": "code",
   "execution_count": 2,
   "metadata": {},
   "outputs": [],
   "source": [
    "import numpy as np\n",
    "import pandas as pd\n",
    "import sklearn.datasets as sk_datasets\n",
    "from sklearn.datasets import make_regression\n",
    "from sklearn.ensemble import GradientBoostingRegressor, RandomForestRegressor\n",
    "from sklearn.linear_model import Lasso, Ridge\n",
    "from sklearn.svm import SVR\n",
    "from xgboost import XGBRegressor\n",
    "\n",
    "from mlpr.ml.supervisioned.regression import metrics, plots\n",
    "from mlpr.ml.tunning.grid_search import GridSearch\n",
    "from mlpr.reports.create import ReportGenerator\n",
    "from utils.reader import read_file_yaml\n",
    "\n",
    "%reload_ext autoreload"
   ]
  },
  {
   "cell_type": "markdown",
   "metadata": {},
   "source": [
    "## Parameters"
   ]
  },
  {
   "cell_type": "code",
   "execution_count": 3,
   "metadata": {},
   "outputs": [],
   "source": [
    "path_data = PROJECT_DIR / 'data'\n",
    "path_conf = PROJECT_DIR / 'conf'\n",
    "path_templates = PROJECT_DIR / 'templates'\n",
    "path_assets = PROJECT_DIR / 'assets'\n",
    "\n",
    "path_intermediate = path_data / '02_intermediate'\n",
    "path_models = path_data / '04_models'\n",
    "path_reports = path_data / '05_reports'\n",
    "\n",
    "path_reports_regression = path_templates / \"regression\"\n",
    "file_path_reports = path_reports / \"report_model.html\"\n",
    "\n",
    "parameters = read_file_yaml(path_conf / 'params.yaml')\n",
    "\n",
    "datasets = parameters[\"datasets\"]\n",
    "n_seed = parameters[\"experiments\"][\"n_seed\"]"
   ]
  },
  {
   "cell_type": "code",
   "execution_count": 4,
   "metadata": {},
   "outputs": [],
   "source": [
    "np.random.seed(n_seed)"
   ]
  },
  {
   "cell_type": "markdown",
   "metadata": {},
   "source": [
    "## Read"
   ]
  },
  {
   "cell_type": "code",
   "execution_count": 5,
   "metadata": {},
   "outputs": [],
   "source": [
    "# content = getattr(sk_datasets, datasets[\"diabetes\"][\"path\"])()\n",
    "# data = pd.DataFrame(content[\"data\"], columns=content[\"feature_names\"])\n",
    "# data[\"target\"] = content[\"target\"]"
   ]
  },
  {
   "cell_type": "code",
   "execution_count": 6,
   "metadata": {},
   "outputs": [],
   "source": [
    "# X, y = make_regression(n_samples=data.shape[0], n_features=11, noise=20)\n",
    "\n",
    "# data = pd.DataFrame(data=X, columns=[f'feature_{i}' for i in range(1, 11 + 1)])\n",
    "# data['target'] = y\n",
    "\n",
    "# # Gerar outliers\n",
    "# n_outliers = 50\n",
    "# outliers_X = np.random.normal(loc=1000, scale=400, size=(n_outliers, data.shape[1]-1))\n",
    "# outliers_y = np.random.normal(loc=1000, scale=400, size=n_outliers)\n",
    "\n",
    "# # Adicionar outliers aos dados\n",
    "# data_outliers = pd.DataFrame(data=outliers_X, columns=[f'feature_{i}' for i in range(1, data.shape[1])])\n",
    "# data_outliers['target'] = outliers_y\n",
    "\n",
    "# # Concatenar os dados originais com os outliers\n",
    "# data = pd.concat([data, data_outliers], ignore_index=True)"
   ]
  },
  {
   "cell_type": "code",
   "execution_count": 7,
   "metadata": {},
   "outputs": [],
   "source": [
    "n_feats = 11\n",
    "n_instances = 1000\n",
    "n_invert = 50\n",
    "\n",
    "X, y = make_regression(n_samples=n_instances, n_features=n_feats, noise=20)\n",
    "\n",
    "# introduce of noises\n",
    "indices = np.random.choice(y.shape[0], size=n_invert, replace=False)\n",
    "y[indices] = np.max(y) - y[indices]\n",
    "\n",
    "data = pd.DataFrame(data=X, columns=[f'feature_{i}' for i in range(1, n_feats + 1)])\n",
    "data['target'] = y"
   ]
  },
  {
   "cell_type": "markdown",
   "metadata": {},
   "source": [
    "## Split labels"
   ]
  },
  {
   "cell_type": "code",
   "execution_count": 8,
   "metadata": {},
   "outputs": [],
   "source": [
    "X = data.drop(\"target\", axis=1)\n",
    "y = data[\"target\"].values"
   ]
  },
  {
   "cell_type": "markdown",
   "metadata": {},
   "source": [
    "## Modelling"
   ]
  },
  {
   "cell_type": "code",
   "execution_count": 9,
   "metadata": {},
   "outputs": [],
   "source": [
    "models_params = {\n",
    "    Ridge: {\n",
    "        'alpha': [1.0, 10.0, 15, 20],\n",
    "        'random_state': [n_seed]\n",
    "    },\n",
    "    Lasso: {\n",
    "        'alpha': [0.1, 1.0, 10.0],\n",
    "        'random_state': [n_seed]\n",
    "    },\n",
    "    SVR: {\n",
    "        'C': [0.1, 1.0, 10.0],\n",
    "        'kernel': ['linear', 'rbf']\n",
    "    },\n",
    "    RandomForestRegressor: {\n",
    "        'n_estimators': [10, 50, 100],\n",
    "        'max_depth': [None, 5, 10],\n",
    "        'random_state': [n_seed]\n",
    "    },\n",
    "    GradientBoostingRegressor: {\n",
    "        'n_estimators': [100, 200],\n",
    "        'learning_rate': [0.1, 0.05, 0.01],\n",
    "        'random_state': [n_seed]\n",
    "    },\n",
    "    XGBRegressor: {\n",
    "        'n_estimators': [100, 200],\n",
    "        'learning_rate': [0.1, 0.05, 0.01],\n",
    "        'random_state': [n_seed]\n",
    "    }\n",
    "}\n",
    "\n",
    "params_split = {\n",
    "    'test_size': 0.25,\n",
    "    'random_state': n_seed\n",
    "}\n",
    "params_norm = {'with_mean': True, 'with_std': True}\n",
    "\n",
    "grid_search = GridSearch(\n",
    "    X,\n",
    "    y,\n",
    "    params_split=params_split,\n",
    "    models_params=models_params,\n",
    "    normalize=True,\n",
    "    params_norm=params_norm\n",
    ")\n",
    "grid_search.search(cv=5, n_jobs=-1)\n",
    "\n",
    "best_model, best_params = \\\n",
    "    grid_search \\\n",
    "    .get_best_model()"
   ]
  },
  {
   "cell_type": "markdown",
   "metadata": {},
   "source": [
    "## Predictions"
   ]
  },
  {
   "cell_type": "code",
   "execution_count": 10,
   "metadata": {},
   "outputs": [],
   "source": [
    "data_train = pd.DataFrame(\n",
    "    grid_search.X_train,\n",
    "    columns=X.columns\n",
    ")\n",
    "data_train[\"y_true\"] = grid_search.y_train\n",
    "data_train[\"y_pred\"] = grid_search.best_model.predict(grid_search.X_train)"
   ]
  },
  {
   "cell_type": "markdown",
   "metadata": {},
   "source": [
    "## Metrics"
   ]
  },
  {
   "cell_type": "code",
   "execution_count": 11,
   "metadata": {},
   "outputs": [],
   "source": [
    "k = 3\n",
    "rm = metrics.RegressionMetrics(data_train, *[\"y_true\", \"y_pred\"])"
   ]
  },
  {
   "cell_type": "code",
   "execution_count": 12,
   "metadata": {},
   "outputs": [],
   "source": [
    "results = rm.calculate_metrics(\n",
    "    [\"mape\", \"rmse\", \"kolmogorov_smirnov\", \"confusion_matrix\", \"calculate_kappa\"],\n",
    "    {\n",
    "        \"mape\": {},\n",
    "        \"rmse\": {},\n",
    "        \"kolmogorov_smirnov\": {},\n",
    "        \"confusion_matrix\": {\"n_bins\": k},\n",
    "        \"calculate_kappa\": {\"n_bins\": k}\n",
    "    }\n",
    ")"
   ]
  },
  {
   "cell_type": "markdown",
   "metadata": {},
   "source": [
    "## Plots"
   ]
  },
  {
   "cell_type": "code",
   "execution_count": 15,
   "metadata": {},
   "outputs": [],
   "source": [
    "rp = plots.RegressionPlots(data_train, color_palette=[\"#FF4B3E\", \"#1C2127\"])\n",
    "fig, axs = rp.grid_plot(\n",
    "    plot_functions=[\n",
    "        ['graph11', 'graph12', 'graph13'],\n",
    "        #['', 'graph12', ''],\n",
    "        ['graph21', '', 'graph22'],\n",
    "        #['', 'graph12', '']\n",
    "        ['graph23']\n",
    "    ],\n",
    "    plot_args={\n",
    "        'graph11': {\n",
    "            \"plot\": \"scatter\",\n",
    "            \"params\": {\n",
    "                'y_true_col': 'y_true',\n",
    "                'y_pred_col': 'y_pred',\n",
    "                'linecolor': '#1C2127',\n",
    "                'worst_interval': True,\n",
    "                'metrics': rm.metrics[\"calculate_kappa\"],\n",
    "                'class_interval': rm._class_intervals,\n",
    "                'method': 'recall',\n",
    "                'positive': True\n",
    "            }\n",
    "        },\n",
    "        'graph12': {\n",
    "            \"plot\": \"plot_ecdf\",\n",
    "            \"params\": {\n",
    "                'y_true_col': 'y_true',\n",
    "                'y_pred_col': 'y_pred'\n",
    "            }\n",
    "        },\n",
    "        'graph21': {\n",
    "            \"plot\": \"plot_kde\",\n",
    "            \"params\": {\n",
    "                'columns': ['y_true', 'y_pred']\n",
    "            }\n",
    "        },\n",
    "        'graph22': {\n",
    "            \"plot\": \"plot_error_hist\",\n",
    "            \"params\": {\n",
    "                'y_true_col': 'y_true',\n",
    "                'y_pred_col': 'y_pred',\n",
    "                'linecolor': '#1C2127'\n",
    "            }\n",
    "        },\n",
    "        'graph13': {\n",
    "            \"plot\": \"plot_fitted\",\n",
    "            \"params\": {\n",
    "                'y_true_col': 'y_true',\n",
    "                'y_pred_col': 'y_pred',\n",
    "                'condition': (data_train[\"y_true\"] >= 424.5132071505618),\n",
    "                'sample_size': None\n",
    "            }\n",
    "        },\n",
    "        'graph23': {\n",
    "            \"plot\": \"plot_fitted\",\n",
    "            \"params\": {\n",
    "                'y_true_col': 'y_true',\n",
    "                'y_pred_col': 'y_pred',\n",
    "                'condition': None,\n",
    "                'sample_size': None\n",
    "            }\n",
    "        },\n",
    "    },\n",
    "    show_inline=True\n",
    ")"
   ]
  },
  {
   "cell_type": "markdown",
   "metadata": {},
   "source": [
    "## Save image"
   ]
  },
  {
   "cell_type": "code",
   "execution_count": 22,
   "metadata": {},
   "outputs": [],
   "source": [
    "fig.savefig(\n",
    "    path_assets / \"regression_plots.png\",\n",
    "    dpi=400,\n",
    "    bbox_inches='tight'\n",
    ")"
   ]
  },
  {
   "cell_type": "markdown",
   "metadata": {},
   "source": [
    "## Reports"
   ]
  },
  {
   "cell_type": "code",
   "execution_count": 23,
   "metadata": {},
   "outputs": [
    {
     "data": {
      "text/plain": [
       "'Report created successfully.'"
      ]
     },
     "execution_count": 23,
     "metadata": {},
     "output_type": "execute_result"
    }
   ],
   "source": [
    "report = ReportGenerator(template_dir=path_reports_regression)\n",
    "report.render(\n",
    "    metrics=results,\n",
    "    template_file=\"template_v3.html\",\n",
    "    output_file=file_path_reports,\n",
    "    image_path=path_intermediate / \"regression_plots.png\"\n",
    ")"
   ]
  }
 ],
 "metadata": {
  "kernelspec": {
   "display_name": "template-hooks-BxiOP-Ga-py3.10",
   "language": "python",
   "name": "python3"
  },
  "language_info": {
   "codemirror_mode": {
    "name": "ipython",
    "version": 3
   },
   "file_extension": ".py",
   "mimetype": "text/x-python",
   "name": "python",
   "nbconvert_exporter": "python",
   "pygments_lexer": "ipython3",
   "version": "3.10.12"
  }
 },
 "nbformat": 4,
 "nbformat_minor": 2
}
